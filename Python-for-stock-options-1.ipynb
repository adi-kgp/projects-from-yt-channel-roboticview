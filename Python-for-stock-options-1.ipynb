{
 "cells": [
  {
   "cell_type": "markdown",
   "id": "dfc54fe5-7c77-4985-a239-c358263ba877",
   "metadata": {},
   "source": [
    "## Python for Stock Options 1 | Advanced Options Strategies Python "
   ]
  },
  {
   "cell_type": "code",
   "execution_count": 1,
   "id": "075f698d-f11e-4537-a1dd-220e341c98d6",
   "metadata": {
    "scrolled": true
   },
   "outputs": [],
   "source": [
    "### Installing libraries\n",
    "# !pip install yahoofinancials mibian selenium webdriver-manager "
   ]
  },
  {
   "cell_type": "code",
   "execution_count": 2,
   "id": "767fe8e9-e93a-4ca2-b9d7-924858432286",
   "metadata": {},
   "outputs": [],
   "source": [
    "import numpy as np\n",
    "import pandas as pd\n",
    "from datetime import datetime, timedelta\n",
    "import mibian\n",
    "from yahoofinancials import YahooFinancials\n",
    "import matplotlib.pyplot as plt"
   ]
  },
  {
   "cell_type": "code",
   "execution_count": 3,
   "id": "6d059899-6d1e-47d7-9b7e-88f1c9098eb5",
   "metadata": {},
   "outputs": [],
   "source": [
    "from selenium import webdriver\n",
    "from selenium.webdriver.firefox.service import Service as FirefoxService\n",
    "from webdriver_manager.firefox import GeckoDriverManager\n",
    "from selenium.webdriver.common.by import By\n",
    "\n",
    "driver = webdriver.Firefox(service=FirefoxService(GeckoDriverManager().install()))"
   ]
  },
  {
   "cell_type": "code",
   "execution_count": 20,
   "id": "22d0cf1e-bfd7-4b74-a4f3-93a4f88ad99e",
   "metadata": {},
   "outputs": [
    {
     "data": {
      "text/plain": [
       "datetime.datetime(2024, 7, 11, 11, 55, 51, 847386)"
      ]
     },
     "execution_count": 20,
     "metadata": {},
     "output_type": "execute_result"
    }
   ],
   "source": [
    "today = datetime.today() - timedelta(days=1)\n",
    "today"
   ]
  },
  {
   "cell_type": "code",
   "execution_count": 5,
   "id": "9fe86605-97bc-4259-85aa-3926f1d3c1c3",
   "metadata": {},
   "outputs": [
    {
     "data": {
      "text/plain": [
       "0.0419"
      ]
     },
     "execution_count": 5,
     "metadata": {},
     "output_type": "execute_result"
    }
   ],
   "source": [
    "# yahoo_financials_treasuries = YahooFinancials('^TNX')\n",
    "risk_free_rate = 0.0419 #round(yahoo_financials_treasuries.get_current_price()/100, 4)\n",
    "risk_free_rate"
   ]
  },
  {
   "cell_type": "code",
   "execution_count": 6,
   "id": "85b4cc08-2898-4b01-9b44-2c14d0d84ce1",
   "metadata": {},
   "outputs": [],
   "source": [
    "stock = \"AAPL\""
   ]
  },
  {
   "cell_type": "code",
   "execution_count": 7,
   "id": "d48001f0-6c62-4023-9497-37e827333bfa",
   "metadata": {},
   "outputs": [],
   "source": [
    "url = f\"https://finance.yahoo.com/quote/{stock}/options/?straddle=false\""
   ]
  },
  {
   "cell_type": "code",
   "execution_count": 10,
   "id": "809aded3-2770-49f3-b28e-1ef22ec675ba",
   "metadata": {},
   "outputs": [],
   "source": [
    "def get_target_date(experations):\n",
    "    today = datetime.today() - timedelta(days=1)\n",
    "    experations_dates = [datetime.strptime(i.text, \"%b %d, %Y\") for i in experations if len(i.text)>5 and i.text[-4:]=='2024']\n",
    "    start_date = today + timedelta(days=60)\n",
    "    end_date = today + timedelta(days=80)\n",
    "    filtered_dates = [date for date in experations_dates if start_date <= date <= end_date]\n",
    "    return filtered_dates[0]"
   ]
  },
  {
   "cell_type": "code",
   "execution_count": 11,
   "id": "a2da5058-247b-48bb-8ed5-d8a2f8a0181f",
   "metadata": {},
   "outputs": [],
   "source": [
    "driver.get(url)\n",
    "# driver.implicitly_wait(5)\n",
    "experations_btn = driver.find_element(By.XPATH, '/html/body/div[1]/main/section/section/section/article/section[2]/div/div[1]/button').click()\n",
    "experations = driver.find_elements(By.CLASS_NAME, 'itm.svelte-5qjwyh')\n",
    "target_date_dt = get_target_date(experations)\n",
    "\n",
    "# Desired date as a string\n",
    "target_date_str = target_date_dt.strftime('%b %d, %Y')\n",
    "\n",
    "# Loop through date elements to find the desired date and click on it\n",
    "for element in experations:\n",
    "    if element.text == target_date_str:\n",
    "        element.click()\n",
    "        break\n",
    "driver.implicitly_wait(5)\n",
    "tables = driver.find_elements(By.TAG_NAME, \"table\")\n",
    "stock_price = driver.find_element(By.CLASS_NAME, \"livePrice\").text"
   ]
  },
  {
   "cell_type": "code",
   "execution_count": 12,
   "id": "7022b508-b1ed-4743-9879-1e1eede39f2d",
   "metadata": {},
   "outputs": [],
   "source": [
    "calls = [i.text.split() for i in tables[0].find_elements(By.TAG_NAME, 'tr')]\n",
    "puts = [i.text.split() for i in tables[1].find_elements(By.TAG_NAME, 'tr')]"
   ]
  },
  {
   "cell_type": "code",
   "execution_count": 13,
   "id": "bfacb591-74d9-4c03-b17f-a859e9079530",
   "metadata": {},
   "outputs": [],
   "source": [
    "column_names = ['Contract', 'Date', 'Time', 'ET', 'Strike', 'Price', 'Bid', 'Ask', 'Change', '% Change', 'Volume', 'Open Interest', 'Implied Volatility']\n",
    "calls_df = pd.DataFrame(calls[1:], columns=column_names)\n",
    "puts_df = pd.DataFrame(puts[1:], columns=column_names)"
   ]
  },
  {
   "cell_type": "code",
   "execution_count": 14,
   "id": "0355449c-12ad-4037-ba97-d4889235dae4",
   "metadata": {},
   "outputs": [],
   "source": [
    "calls_df['Strike'] = calls_df['Strike'].astype(float)\n",
    "puts_df['Strike'] = puts_df['Strike'].astype(float)"
   ]
  },
  {
   "cell_type": "code",
   "execution_count": 15,
   "id": "5cb6a60f-f09c-4507-a6aa-5d1b94585ac1",
   "metadata": {},
   "outputs": [],
   "source": [
    "stock_price = float(stock_price)"
   ]
  },
  {
   "cell_type": "code",
   "execution_count": 16,
   "id": "0cf57652-816c-4213-ae7a-250c2074343e",
   "metadata": {},
   "outputs": [],
   "source": [
    "lower = calls_df[calls_df['Strike'] < stock_price].tail(3)[::-1]\n",
    "higher = calls_df[calls_df['Strike'] > stock_price].head(3)[::-1]"
   ]
  },
  {
   "cell_type": "code",
   "execution_count": 17,
   "id": "19eca903-829b-4211-a955-67bd3eeb27bf",
   "metadata": {},
   "outputs": [],
   "source": [
    "calls_df = pd.concat([higher, lower])\n",
    "calls_df.reset_index(drop=True, inplace=True)"
   ]
  },
  {
   "cell_type": "code",
   "execution_count": 18,
   "id": "5536b249-72b8-4b6e-a1cd-27ad5c216fe4",
   "metadata": {},
   "outputs": [
    {
     "data": {
      "text/html": [
       "<div>\n",
       "<style scoped>\n",
       "    .dataframe tbody tr th:only-of-type {\n",
       "        vertical-align: middle;\n",
       "    }\n",
       "\n",
       "    .dataframe tbody tr th {\n",
       "        vertical-align: top;\n",
       "    }\n",
       "\n",
       "    .dataframe thead th {\n",
       "        text-align: right;\n",
       "    }\n",
       "</style>\n",
       "<table border=\"1\" class=\"dataframe\">\n",
       "  <thead>\n",
       "    <tr style=\"text-align: right;\">\n",
       "      <th></th>\n",
       "      <th>Contract</th>\n",
       "      <th>Date</th>\n",
       "      <th>Time</th>\n",
       "      <th>ET</th>\n",
       "      <th>Strike</th>\n",
       "      <th>Price</th>\n",
       "      <th>Bid</th>\n",
       "      <th>Ask</th>\n",
       "      <th>Change</th>\n",
       "      <th>% Change</th>\n",
       "      <th>Volume</th>\n",
       "      <th>Open Interest</th>\n",
       "      <th>Implied Volatility</th>\n",
       "    </tr>\n",
       "  </thead>\n",
       "  <tbody>\n",
       "    <tr>\n",
       "      <th>0</th>\n",
       "      <td>AAPL240920C00240000</td>\n",
       "      <td>7/11/2024</td>\n",
       "      <td>7:59</td>\n",
       "      <td>PM</td>\n",
       "      <td>240.0</td>\n",
       "      <td>5.30</td>\n",
       "      <td>0.00</td>\n",
       "      <td>0.00</td>\n",
       "      <td>0.00</td>\n",
       "      <td>0.00%</td>\n",
       "      <td>6,462</td>\n",
       "      <td>0</td>\n",
       "      <td>3.13%</td>\n",
       "    </tr>\n",
       "    <tr>\n",
       "      <th>1</th>\n",
       "      <td>AAPL240920C00235000</td>\n",
       "      <td>7/11/2024</td>\n",
       "      <td>7:59</td>\n",
       "      <td>PM</td>\n",
       "      <td>235.0</td>\n",
       "      <td>7.15</td>\n",
       "      <td>0.00</td>\n",
       "      <td>0.00</td>\n",
       "      <td>0.00</td>\n",
       "      <td>0.00%</td>\n",
       "      <td>2,932</td>\n",
       "      <td>0</td>\n",
       "      <td>1.56%</td>\n",
       "    </tr>\n",
       "    <tr>\n",
       "      <th>2</th>\n",
       "      <td>AAPL240920C00230000</td>\n",
       "      <td>7/11/2024</td>\n",
       "      <td>7:59</td>\n",
       "      <td>PM</td>\n",
       "      <td>230.0</td>\n",
       "      <td>9.33</td>\n",
       "      <td>0.00</td>\n",
       "      <td>0.00</td>\n",
       "      <td>0.00</td>\n",
       "      <td>0.00%</td>\n",
       "      <td>9,352</td>\n",
       "      <td>0</td>\n",
       "      <td>0.78%</td>\n",
       "    </tr>\n",
       "    <tr>\n",
       "      <th>3</th>\n",
       "      <td>AAPL240920C00225000</td>\n",
       "      <td>7/11/2024</td>\n",
       "      <td>7:59</td>\n",
       "      <td>PM</td>\n",
       "      <td>225.0</td>\n",
       "      <td>12.02</td>\n",
       "      <td>0.00</td>\n",
       "      <td>0.00</td>\n",
       "      <td>0.00</td>\n",
       "      <td>0.00%</td>\n",
       "      <td>1,450</td>\n",
       "      <td>0</td>\n",
       "      <td>0.00%</td>\n",
       "    </tr>\n",
       "    <tr>\n",
       "      <th>4</th>\n",
       "      <td>AAPL240920C00220000</td>\n",
       "      <td>7/11/2024</td>\n",
       "      <td>7:58</td>\n",
       "      <td>PM</td>\n",
       "      <td>220.0</td>\n",
       "      <td>15.17</td>\n",
       "      <td>0.00</td>\n",
       "      <td>0.00</td>\n",
       "      <td>0.00</td>\n",
       "      <td>0.00%</td>\n",
       "      <td>11,239</td>\n",
       "      <td>0</td>\n",
       "      <td>0.00%</td>\n",
       "    </tr>\n",
       "    <tr>\n",
       "      <th>5</th>\n",
       "      <td>AAPL240920C00215000</td>\n",
       "      <td>7/11/2024</td>\n",
       "      <td>7:59</td>\n",
       "      <td>PM</td>\n",
       "      <td>215.0</td>\n",
       "      <td>18.75</td>\n",
       "      <td>0.00</td>\n",
       "      <td>0.00</td>\n",
       "      <td>0.00</td>\n",
       "      <td>0.00%</td>\n",
       "      <td>993</td>\n",
       "      <td>0</td>\n",
       "      <td>0.00%</td>\n",
       "    </tr>\n",
       "  </tbody>\n",
       "</table>\n",
       "</div>"
      ],
      "text/plain": [
       "              Contract       Date  Time  ET  Strike  Price   Bid   Ask Change  \\\n",
       "0  AAPL240920C00240000  7/11/2024  7:59  PM   240.0   5.30  0.00  0.00   0.00   \n",
       "1  AAPL240920C00235000  7/11/2024  7:59  PM   235.0   7.15  0.00  0.00   0.00   \n",
       "2  AAPL240920C00230000  7/11/2024  7:59  PM   230.0   9.33  0.00  0.00   0.00   \n",
       "3  AAPL240920C00225000  7/11/2024  7:59  PM   225.0  12.02  0.00  0.00   0.00   \n",
       "4  AAPL240920C00220000  7/11/2024  7:58  PM   220.0  15.17  0.00  0.00   0.00   \n",
       "5  AAPL240920C00215000  7/11/2024  7:59  PM   215.0  18.75  0.00  0.00   0.00   \n",
       "\n",
       "  % Change  Volume Open Interest Implied Volatility  \n",
       "0    0.00%   6,462             0              3.13%  \n",
       "1    0.00%   2,932             0              1.56%  \n",
       "2    0.00%   9,352             0              0.78%  \n",
       "3    0.00%   1,450             0              0.00%  \n",
       "4    0.00%  11,239             0              0.00%  \n",
       "5    0.00%     993             0              0.00%  "
      ]
     },
     "execution_count": 18,
     "metadata": {},
     "output_type": "execute_result"
    }
   ],
   "source": [
    "calls_df"
   ]
  },
  {
   "cell_type": "code",
   "execution_count": 21,
   "id": "46adf0a0-4c7e-487e-927d-8ffbc1e49578",
   "metadata": {},
   "outputs": [],
   "source": [
    "maturity = (target_date_dt - today).days"
   ]
  },
  {
   "cell_type": "code",
   "execution_count": 22,
   "id": "f1016d59-adf5-41cb-91e2-ffa5168ca9d6",
   "metadata": {},
   "outputs": [],
   "source": [
    "calls_df['IV'] = calls_df['Implied Volatility'].str.strip(\"%\").astype(float)"
   ]
  },
  {
   "cell_type": "code",
   "execution_count": 23,
   "id": "19f3ada9-418b-4495-86f8-38cf3cb5c2d6",
   "metadata": {},
   "outputs": [],
   "source": [
    "def calculate_option_value(row):\n",
    "    strike = row['Strike']\n",
    "    volatility = row['IV']\n",
    "\n",
    "    option = mibian.BS([stock_price, strike, risk_free_rate, maturity], volatility=volatility)\n",
    "    return [\n",
    "        option.callPrice,\n",
    "        option.callDelta,\n",
    "        option.callTheta,\n",
    "        option.vega,\n",
    "        option.gamma,\n",
    "        option.callRho\n",
    "    ]"
   ]
  },
  {
   "cell_type": "code",
   "execution_count": 24,
   "id": "e2b25bdb-db30-45cb-acee-78645315e612",
   "metadata": {},
   "outputs": [],
   "source": [
    "calls_df[['BSM Price', 'Call Delta', 'Call Theta', 'Vega', 'Gamma', 'Rho']] = calls_df[['Strike', 'IV']].apply(calculate_option_value, axis=1, result_type='expand')"
   ]
  },
  {
   "cell_type": "code",
   "execution_count": 25,
   "id": "483f3b99-7a57-4c0d-a249-53bb7ec876dd",
   "metadata": {},
   "outputs": [],
   "source": [
    "calls_df.drop(columns=['Date', 'Time', 'ET', 'Change', '% Change', 'Implied Volatility'], inplace=True)"
   ]
  },
  {
   "cell_type": "code",
   "execution_count": 26,
   "id": "9435a30b-6693-44e6-b909-09cb0fa16614",
   "metadata": {},
   "outputs": [
    {
     "data": {
      "text/plain": [
       "Index(['Contract', 'Strike', 'Price', 'Bid', 'Ask', 'Volume', 'Open Interest',\n",
       "       'IV', 'BSM Price', 'Call Delta', 'Call Theta', 'Vega', 'Gamma', 'Rho'],\n",
       "      dtype='object')"
      ]
     },
     "execution_count": 26,
     "metadata": {},
     "output_type": "execute_result"
    }
   ],
   "source": [
    "calls_df.columns"
   ]
  },
  {
   "cell_type": "code",
   "execution_count": 27,
   "id": "c24cca6d-dd38-4b8e-8846-2b69b1dc625b",
   "metadata": {},
   "outputs": [],
   "source": [
    "calls_df['Ask'] = calls_df['Ask'].astype(float)"
   ]
  },
  {
   "cell_type": "code",
   "execution_count": 28,
   "id": "3597b82a-24d5-44bf-8093-31b3a298fe63",
   "metadata": {},
   "outputs": [],
   "source": [
    "calls_df['Under'] = np.where(calls_df['Ask']<calls_df['BSM Price'], True, False)"
   ]
  },
  {
   "cell_type": "code",
   "execution_count": 29,
   "id": "0e7706ba-3b79-4c8c-afc0-eaef76ebbdde",
   "metadata": {},
   "outputs": [
    {
     "data": {
      "text/html": [
       "<div>\n",
       "<style scoped>\n",
       "    .dataframe tbody tr th:only-of-type {\n",
       "        vertical-align: middle;\n",
       "    }\n",
       "\n",
       "    .dataframe tbody tr th {\n",
       "        vertical-align: top;\n",
       "    }\n",
       "\n",
       "    .dataframe thead th {\n",
       "        text-align: right;\n",
       "    }\n",
       "</style>\n",
       "<table border=\"1\" class=\"dataframe\">\n",
       "  <thead>\n",
       "    <tr style=\"text-align: right;\">\n",
       "      <th></th>\n",
       "      <th>Contract</th>\n",
       "      <th>Strike</th>\n",
       "      <th>Price</th>\n",
       "      <th>Bid</th>\n",
       "      <th>Ask</th>\n",
       "      <th>Volume</th>\n",
       "      <th>Open Interest</th>\n",
       "      <th>IV</th>\n",
       "      <th>BSM Price</th>\n",
       "      <th>Call Delta</th>\n",
       "      <th>Call Theta</th>\n",
       "      <th>Vega</th>\n",
       "      <th>Gamma</th>\n",
       "      <th>Rho</th>\n",
       "      <th>Under</th>\n",
       "    </tr>\n",
       "  </thead>\n",
       "  <tbody>\n",
       "    <tr>\n",
       "      <th>0</th>\n",
       "      <td>AAPL240920C00240000</td>\n",
       "      <td>240.0</td>\n",
       "      <td>5.30</td>\n",
       "      <td>0.00</td>\n",
       "      <td>0.0</td>\n",
       "      <td>6,462</td>\n",
       "      <td>0</td>\n",
       "      <td>3.13</td>\n",
       "      <td>3.972850e-05</td>\n",
       "      <td>0.000055</td>\n",
       "      <td>-5.044041e-06</td>\n",
       "      <td>0.000225</td>\n",
       "      <td>0.000072</td>\n",
       "      <td>2.395880e-05</td>\n",
       "      <td>True</td>\n",
       "    </tr>\n",
       "    <tr>\n",
       "      <th>1</th>\n",
       "      <td>AAPL240920C00235000</td>\n",
       "      <td>235.0</td>\n",
       "      <td>7.15</td>\n",
       "      <td>0.00</td>\n",
       "      <td>0.0</td>\n",
       "      <td>2,932</td>\n",
       "      <td>0</td>\n",
       "      <td>1.56</td>\n",
       "      <td>4.234169e-07</td>\n",
       "      <td>0.000001</td>\n",
       "      <td>-7.534739e-08</td>\n",
       "      <td>0.000007</td>\n",
       "      <td>0.000004</td>\n",
       "      <td>6.024973e-07</td>\n",
       "      <td>True</td>\n",
       "    </tr>\n",
       "    <tr>\n",
       "      <th>2</th>\n",
       "      <td>AAPL240920C00230000</td>\n",
       "      <td>230.0</td>\n",
       "      <td>9.33</td>\n",
       "      <td>0.00</td>\n",
       "      <td>0.0</td>\n",
       "      <td>9,352</td>\n",
       "      <td>0</td>\n",
       "      <td>0.78</td>\n",
       "      <td>2.197288e-04</td>\n",
       "      <td>0.001020</td>\n",
       "      <td>-1.931144e-05</td>\n",
       "      <td>0.003418</td>\n",
       "      <td>0.004413</td>\n",
       "      <td>4.449138e-04</td>\n",
       "      <td>True</td>\n",
       "    </tr>\n",
       "    <tr>\n",
       "      <th>3</th>\n",
       "      <td>AAPL240920C00225000</td>\n",
       "      <td>225.0</td>\n",
       "      <td>12.02</td>\n",
       "      <td>0.00</td>\n",
       "      <td>0.0</td>\n",
       "      <td>1,450</td>\n",
       "      <td>0</td>\n",
       "      <td>0.00</td>\n",
       "      <td>NaN</td>\n",
       "      <td>NaN</td>\n",
       "      <td>NaN</td>\n",
       "      <td>NaN</td>\n",
       "      <td>NaN</td>\n",
       "      <td>NaN</td>\n",
       "      <td>False</td>\n",
       "    </tr>\n",
       "    <tr>\n",
       "      <th>4</th>\n",
       "      <td>AAPL240920C00220000</td>\n",
       "      <td>220.0</td>\n",
       "      <td>15.17</td>\n",
       "      <td>0.00</td>\n",
       "      <td>0.0</td>\n",
       "      <td>11,239</td>\n",
       "      <td>0</td>\n",
       "      <td>0.00</td>\n",
       "      <td>NaN</td>\n",
       "      <td>NaN</td>\n",
       "      <td>NaN</td>\n",
       "      <td>NaN</td>\n",
       "      <td>NaN</td>\n",
       "      <td>NaN</td>\n",
       "      <td>False</td>\n",
       "    </tr>\n",
       "    <tr>\n",
       "      <th>5</th>\n",
       "      <td>AAPL240920C00215000</td>\n",
       "      <td>215.0</td>\n",
       "      <td>18.75</td>\n",
       "      <td>0.00</td>\n",
       "      <td>0.0</td>\n",
       "      <td>993</td>\n",
       "      <td>0</td>\n",
       "      <td>0.00</td>\n",
       "      <td>NaN</td>\n",
       "      <td>NaN</td>\n",
       "      <td>NaN</td>\n",
       "      <td>NaN</td>\n",
       "      <td>NaN</td>\n",
       "      <td>NaN</td>\n",
       "      <td>False</td>\n",
       "    </tr>\n",
       "  </tbody>\n",
       "</table>\n",
       "</div>"
      ],
      "text/plain": [
       "              Contract  Strike  Price   Bid  Ask  Volume Open Interest    IV  \\\n",
       "0  AAPL240920C00240000   240.0   5.30  0.00  0.0   6,462             0  3.13   \n",
       "1  AAPL240920C00235000   235.0   7.15  0.00  0.0   2,932             0  1.56   \n",
       "2  AAPL240920C00230000   230.0   9.33  0.00  0.0   9,352             0  0.78   \n",
       "3  AAPL240920C00225000   225.0  12.02  0.00  0.0   1,450             0  0.00   \n",
       "4  AAPL240920C00220000   220.0  15.17  0.00  0.0  11,239             0  0.00   \n",
       "5  AAPL240920C00215000   215.0  18.75  0.00  0.0     993             0  0.00   \n",
       "\n",
       "      BSM Price  Call Delta    Call Theta      Vega     Gamma           Rho  \\\n",
       "0  3.972850e-05    0.000055 -5.044041e-06  0.000225  0.000072  2.395880e-05   \n",
       "1  4.234169e-07    0.000001 -7.534739e-08  0.000007  0.000004  6.024973e-07   \n",
       "2  2.197288e-04    0.001020 -1.931144e-05  0.003418  0.004413  4.449138e-04   \n",
       "3           NaN         NaN           NaN       NaN       NaN           NaN   \n",
       "4           NaN         NaN           NaN       NaN       NaN           NaN   \n",
       "5           NaN         NaN           NaN       NaN       NaN           NaN   \n",
       "\n",
       "   Under  \n",
       "0   True  \n",
       "1   True  \n",
       "2   True  \n",
       "3  False  \n",
       "4  False  \n",
       "5  False  "
      ]
     },
     "execution_count": 29,
     "metadata": {},
     "output_type": "execute_result"
    }
   ],
   "source": [
    "calls_df"
   ]
  },
  {
   "cell_type": "code",
   "execution_count": null,
   "id": "185e80e4-f070-4869-9ad5-4ed2f597a94d",
   "metadata": {},
   "outputs": [],
   "source": []
  }
 ],
 "metadata": {
  "kernelspec": {
   "display_name": "Python 3 (ipykernel)",
   "language": "python",
   "name": "python3"
  },
  "language_info": {
   "codemirror_mode": {
    "name": "ipython",
    "version": 3
   },
   "file_extension": ".py",
   "mimetype": "text/x-python",
   "name": "python",
   "nbconvert_exporter": "python",
   "pygments_lexer": "ipython3",
   "version": "3.10.12"
  }
 },
 "nbformat": 4,
 "nbformat_minor": 5
}
